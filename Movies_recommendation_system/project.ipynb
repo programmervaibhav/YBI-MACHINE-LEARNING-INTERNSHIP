{
 "cells": [
  {
   "cell_type": "markdown",
   "id": "52c8f994-24ab-4817-94ce-cb6aeb5af3ab",
   "metadata": {},
   "source": [
    "**Movies recommendatation system**"
   ]
  },
  {
   "cell_type": "markdown",
   "id": "8bbd18ff-fcb8-40ed-8324-0349aa2b4c56",
   "metadata": {},
   "source": [
    "**Movies recommendatation system**\n",
    "\n",
    "Recommender System is a system that seeks to predict or filter preferences according to the user’s choices. Recommender systems are utilized in a variety of areas including movies, music, news, books, research articles, search queries, social tags, and products in general. Recommender systems produce a list of recommendations in any of the two ways –\n",
    "\n",
    "**Collaborative filtering:** Collaborative filtering approaches build a model from the user’s past behavior (i.e. items purchased or searched by the user) as well as similar decisions made by other users. This model is then used to predict items (or ratings for items) that users may have an interest in.\n",
    "\n",
    "**Content-based filtering:** Content-based filtering approaches uses a series of discrete characteristics of an item in order to recommend additional items with similar properties. Content-based filtering methods are totally based on a description of the item and a profile of the user’s preferences. It recommends items based on the user’s past preferences."
   ]
  },
  {
   "cell_type": "markdown",
   "id": "4b747188-6859-448f-af87-af23d83891ea",
   "metadata": {},
   "source": [
    "**Import Library**"
   ]
  },
  {
   "cell_type": "code",
   "execution_count": 209,
   "id": "33f4a4cc-9f8f-40c8-8f0e-0efd0bcaf719",
   "metadata": {
    "tags": []
   },
   "outputs": [],
   "source": [
    "import pandas as pd\n",
    "import numpy as np"
   ]
  },
  {
   "cell_type": "code",
   "execution_count": 210,
   "id": "1eb5aeb8-261a-4649-8f93-28066a04803b",
   "metadata": {
    "tags": []
   },
   "outputs": [],
   "source": [
    "data=pd.read_csv('movies_data.csv',dtype='unicode')"
   ]
  },
  {
   "cell_type": "code",
   "execution_count": 211,
   "id": "8b0c1175-9878-4b03-995b-7e1042e5fa83",
   "metadata": {
    "tags": []
   },
   "outputs": [
    {
     "data": {
      "text/html": [
       "<div>\n",
       "<style scoped>\n",
       "    .dataframe tbody tr th:only-of-type {\n",
       "        vertical-align: middle;\n",
       "    }\n",
       "\n",
       "    .dataframe tbody tr th {\n",
       "        vertical-align: top;\n",
       "    }\n",
       "\n",
       "    .dataframe thead th {\n",
       "        text-align: right;\n",
       "    }\n",
       "</style>\n",
       "<table border=\"1\" class=\"dataframe\">\n",
       "  <thead>\n",
       "    <tr style=\"text-align: right;\">\n",
       "      <th></th>\n",
       "      <th>adult</th>\n",
       "      <th>belongs_to_collection</th>\n",
       "      <th>budget</th>\n",
       "      <th>genres</th>\n",
       "      <th>homepage</th>\n",
       "      <th>id</th>\n",
       "      <th>imdb_id</th>\n",
       "      <th>original_language</th>\n",
       "      <th>original_title</th>\n",
       "      <th>overview</th>\n",
       "      <th>...</th>\n",
       "      <th>release_date</th>\n",
       "      <th>revenue</th>\n",
       "      <th>runtime</th>\n",
       "      <th>spoken_languages</th>\n",
       "      <th>status</th>\n",
       "      <th>tagline</th>\n",
       "      <th>title</th>\n",
       "      <th>video</th>\n",
       "      <th>vote_average</th>\n",
       "      <th>vote_count</th>\n",
       "    </tr>\n",
       "  </thead>\n",
       "  <tbody>\n",
       "    <tr>\n",
       "      <th>0</th>\n",
       "      <td>FALSE</td>\n",
       "      <td>{'id': 10194, 'name': 'Toy Story Collection', ...</td>\n",
       "      <td>30000000</td>\n",
       "      <td>[{'id': 16, 'name': 'Animation'}, {'id': 35, '...</td>\n",
       "      <td>http://toystory.disney.com/toy-story</td>\n",
       "      <td>862</td>\n",
       "      <td>tt0114709</td>\n",
       "      <td>en</td>\n",
       "      <td>Toy Story</td>\n",
       "      <td>Led by Woody, Andy's toys live happily in his ...</td>\n",
       "      <td>...</td>\n",
       "      <td>30-10-1995</td>\n",
       "      <td>373554033</td>\n",
       "      <td>81</td>\n",
       "      <td>[{'iso_639_1': 'en', 'name': 'English'}]</td>\n",
       "      <td>Released</td>\n",
       "      <td>NaN</td>\n",
       "      <td>Toy Story</td>\n",
       "      <td>FALSE</td>\n",
       "      <td>7.7</td>\n",
       "      <td>5415</td>\n",
       "    </tr>\n",
       "    <tr>\n",
       "      <th>1</th>\n",
       "      <td>FALSE</td>\n",
       "      <td>NaN</td>\n",
       "      <td>65000000</td>\n",
       "      <td>[{'id': 12, 'name': 'Adventure'}, {'id': 14, '...</td>\n",
       "      <td>NaN</td>\n",
       "      <td>8844</td>\n",
       "      <td>tt0113497</td>\n",
       "      <td>en</td>\n",
       "      <td>Jumanji</td>\n",
       "      <td>When siblings Judy and Peter discover an encha...</td>\n",
       "      <td>...</td>\n",
       "      <td>15-12-1995</td>\n",
       "      <td>262797249</td>\n",
       "      <td>104</td>\n",
       "      <td>[{'iso_639_1': 'en', 'name': 'English'}, {'iso...</td>\n",
       "      <td>Released</td>\n",
       "      <td>Roll the dice and unleash the excitement!</td>\n",
       "      <td>Jumanji</td>\n",
       "      <td>FALSE</td>\n",
       "      <td>6.9</td>\n",
       "      <td>2413</td>\n",
       "    </tr>\n",
       "    <tr>\n",
       "      <th>2</th>\n",
       "      <td>FALSE</td>\n",
       "      <td>{'id': 119050, 'name': 'Grumpy Old Men Collect...</td>\n",
       "      <td>0</td>\n",
       "      <td>[{'id': 10749, 'name': 'Romance'}, {'id': 35, ...</td>\n",
       "      <td>NaN</td>\n",
       "      <td>15602</td>\n",
       "      <td>tt0113228</td>\n",
       "      <td>en</td>\n",
       "      <td>Grumpier Old Men</td>\n",
       "      <td>A family wedding reignites the ancient feud be...</td>\n",
       "      <td>...</td>\n",
       "      <td>22-12-1995</td>\n",
       "      <td>0</td>\n",
       "      <td>101</td>\n",
       "      <td>[{'iso_639_1': 'en', 'name': 'English'}]</td>\n",
       "      <td>Released</td>\n",
       "      <td>Still Yelling. Still Fighting. Still Ready for...</td>\n",
       "      <td>Grumpier Old Men</td>\n",
       "      <td>FALSE</td>\n",
       "      <td>6.5</td>\n",
       "      <td>92</td>\n",
       "    </tr>\n",
       "    <tr>\n",
       "      <th>3</th>\n",
       "      <td>FALSE</td>\n",
       "      <td>NaN</td>\n",
       "      <td>16000000</td>\n",
       "      <td>[{'id': 35, 'name': 'Comedy'}, {'id': 18, 'nam...</td>\n",
       "      <td>NaN</td>\n",
       "      <td>31357</td>\n",
       "      <td>tt0114885</td>\n",
       "      <td>en</td>\n",
       "      <td>Waiting to Exhale</td>\n",
       "      <td>Cheated on, mistreated and stepped on, the wom...</td>\n",
       "      <td>...</td>\n",
       "      <td>22-12-1995</td>\n",
       "      <td>81452156</td>\n",
       "      <td>127</td>\n",
       "      <td>[{'iso_639_1': 'en', 'name': 'English'}]</td>\n",
       "      <td>Released</td>\n",
       "      <td>Friends are the people who let you be yourself...</td>\n",
       "      <td>Waiting to Exhale</td>\n",
       "      <td>FALSE</td>\n",
       "      <td>6.1</td>\n",
       "      <td>34</td>\n",
       "    </tr>\n",
       "    <tr>\n",
       "      <th>4</th>\n",
       "      <td>FALSE</td>\n",
       "      <td>{'id': 96871, 'name': 'Father of the Bride Col...</td>\n",
       "      <td>0</td>\n",
       "      <td>[{'id': 35, 'name': 'Comedy'}]</td>\n",
       "      <td>NaN</td>\n",
       "      <td>11862</td>\n",
       "      <td>tt0113041</td>\n",
       "      <td>en</td>\n",
       "      <td>Father of the Bride Part II</td>\n",
       "      <td>Just when George Banks has recovered from his ...</td>\n",
       "      <td>...</td>\n",
       "      <td>10-02-1995</td>\n",
       "      <td>76578911</td>\n",
       "      <td>106</td>\n",
       "      <td>[{'iso_639_1': 'en', 'name': 'English'}]</td>\n",
       "      <td>Released</td>\n",
       "      <td>Just When His World Is Back To Normal... He's ...</td>\n",
       "      <td>Father of the Bride Part II</td>\n",
       "      <td>FALSE</td>\n",
       "      <td>5.7</td>\n",
       "      <td>173</td>\n",
       "    </tr>\n",
       "  </tbody>\n",
       "</table>\n",
       "<p>5 rows × 24 columns</p>\n",
       "</div>"
      ],
      "text/plain": [
       "   adult                              belongs_to_collection    budget  \\\n",
       "0  FALSE  {'id': 10194, 'name': 'Toy Story Collection', ...  30000000   \n",
       "1  FALSE                                                NaN  65000000   \n",
       "2  FALSE  {'id': 119050, 'name': 'Grumpy Old Men Collect...         0   \n",
       "3  FALSE                                                NaN  16000000   \n",
       "4  FALSE  {'id': 96871, 'name': 'Father of the Bride Col...         0   \n",
       "\n",
       "                                              genres  \\\n",
       "0  [{'id': 16, 'name': 'Animation'}, {'id': 35, '...   \n",
       "1  [{'id': 12, 'name': 'Adventure'}, {'id': 14, '...   \n",
       "2  [{'id': 10749, 'name': 'Romance'}, {'id': 35, ...   \n",
       "3  [{'id': 35, 'name': 'Comedy'}, {'id': 18, 'nam...   \n",
       "4                     [{'id': 35, 'name': 'Comedy'}]   \n",
       "\n",
       "                               homepage     id    imdb_id original_language  \\\n",
       "0  http://toystory.disney.com/toy-story    862  tt0114709                en   \n",
       "1                                   NaN   8844  tt0113497                en   \n",
       "2                                   NaN  15602  tt0113228                en   \n",
       "3                                   NaN  31357  tt0114885                en   \n",
       "4                                   NaN  11862  tt0113041                en   \n",
       "\n",
       "                original_title  \\\n",
       "0                    Toy Story   \n",
       "1                      Jumanji   \n",
       "2             Grumpier Old Men   \n",
       "3            Waiting to Exhale   \n",
       "4  Father of the Bride Part II   \n",
       "\n",
       "                                            overview  ... release_date  \\\n",
       "0  Led by Woody, Andy's toys live happily in his ...  ...   30-10-1995   \n",
       "1  When siblings Judy and Peter discover an encha...  ...   15-12-1995   \n",
       "2  A family wedding reignites the ancient feud be...  ...   22-12-1995   \n",
       "3  Cheated on, mistreated and stepped on, the wom...  ...   22-12-1995   \n",
       "4  Just when George Banks has recovered from his ...  ...   10-02-1995   \n",
       "\n",
       "     revenue runtime                                   spoken_languages  \\\n",
       "0  373554033      81           [{'iso_639_1': 'en', 'name': 'English'}]   \n",
       "1  262797249     104  [{'iso_639_1': 'en', 'name': 'English'}, {'iso...   \n",
       "2          0     101           [{'iso_639_1': 'en', 'name': 'English'}]   \n",
       "3   81452156     127           [{'iso_639_1': 'en', 'name': 'English'}]   \n",
       "4   76578911     106           [{'iso_639_1': 'en', 'name': 'English'}]   \n",
       "\n",
       "     status                                            tagline  \\\n",
       "0  Released                                                NaN   \n",
       "1  Released          Roll the dice and unleash the excitement!   \n",
       "2  Released  Still Yelling. Still Fighting. Still Ready for...   \n",
       "3  Released  Friends are the people who let you be yourself...   \n",
       "4  Released  Just When His World Is Back To Normal... He's ...   \n",
       "\n",
       "                         title  video vote_average vote_count  \n",
       "0                    Toy Story  FALSE          7.7       5415  \n",
       "1                      Jumanji  FALSE          6.9       2413  \n",
       "2             Grumpier Old Men  FALSE          6.5         92  \n",
       "3            Waiting to Exhale  FALSE          6.1         34  \n",
       "4  Father of the Bride Part II  FALSE          5.7        173  \n",
       "\n",
       "[5 rows x 24 columns]"
      ]
     },
     "execution_count": 211,
     "metadata": {},
     "output_type": "execute_result"
    }
   ],
   "source": [
    "data.head()"
   ]
  },
  {
   "cell_type": "code",
   "execution_count": 212,
   "id": "3ce175a5-dc5b-4583-b48d-4a6d6cd63db4",
   "metadata": {
    "tags": []
   },
   "outputs": [
    {
     "data": {
      "text/html": [
       "<div>\n",
       "<style scoped>\n",
       "    .dataframe tbody tr th:only-of-type {\n",
       "        vertical-align: middle;\n",
       "    }\n",
       "\n",
       "    .dataframe tbody tr th {\n",
       "        vertical-align: top;\n",
       "    }\n",
       "\n",
       "    .dataframe thead th {\n",
       "        text-align: right;\n",
       "    }\n",
       "</style>\n",
       "<table border=\"1\" class=\"dataframe\">\n",
       "  <thead>\n",
       "    <tr style=\"text-align: right;\">\n",
       "      <th></th>\n",
       "      <th>adult</th>\n",
       "      <th>belongs_to_collection</th>\n",
       "      <th>budget</th>\n",
       "      <th>genres</th>\n",
       "      <th>homepage</th>\n",
       "      <th>id</th>\n",
       "      <th>imdb_id</th>\n",
       "      <th>original_language</th>\n",
       "      <th>original_title</th>\n",
       "      <th>overview</th>\n",
       "      <th>...</th>\n",
       "      <th>release_date</th>\n",
       "      <th>revenue</th>\n",
       "      <th>runtime</th>\n",
       "      <th>spoken_languages</th>\n",
       "      <th>status</th>\n",
       "      <th>tagline</th>\n",
       "      <th>title</th>\n",
       "      <th>video</th>\n",
       "      <th>vote_average</th>\n",
       "      <th>vote_count</th>\n",
       "    </tr>\n",
       "  </thead>\n",
       "  <tbody>\n",
       "    <tr>\n",
       "      <th>94</th>\n",
       "      <td>FALSE</td>\n",
       "      <td>NaN</td>\n",
       "      <td>0</td>\n",
       "      <td>[{'id': 35, 'name': 'Comedy'}]</td>\n",
       "      <td>NaN</td>\n",
       "      <td>40154</td>\n",
       "      <td>tt0113403</td>\n",
       "      <td>en</td>\n",
       "      <td>A Midwinter's Tale</td>\n",
       "      <td>Out of work actor Joe volunteers to help try a...</td>\n",
       "      <td>...</td>\n",
       "      <td>01-12-1995</td>\n",
       "      <td>0</td>\n",
       "      <td>99</td>\n",
       "      <td>[{'iso_639_1': 'en', 'name': 'English'}]</td>\n",
       "      <td>Released</td>\n",
       "      <td>The drama. The passion. The intrigue... And th...</td>\n",
       "      <td>A Midwinter's Tale</td>\n",
       "      <td>FALSE</td>\n",
       "      <td>7.5</td>\n",
       "      <td>6</td>\n",
       "    </tr>\n",
       "    <tr>\n",
       "      <th>95</th>\n",
       "      <td>FALSE</td>\n",
       "      <td>NaN</td>\n",
       "      <td>3000000</td>\n",
       "      <td>[{'id': 18, 'name': 'Drama'}]</td>\n",
       "      <td>NaN</td>\n",
       "      <td>406</td>\n",
       "      <td>tt0113247</td>\n",
       "      <td>fr</td>\n",
       "      <td>La Haine</td>\n",
       "      <td>Aimlessly whiling away their days in the concr...</td>\n",
       "      <td>...</td>\n",
       "      <td>31-05-1995</td>\n",
       "      <td>0</td>\n",
       "      <td>98</td>\n",
       "      <td>[{'iso_639_1': 'fr', 'name': 'Français'}]</td>\n",
       "      <td>Released</td>\n",
       "      <td>Three Young Friends... One Last Chance.</td>\n",
       "      <td>La Haine</td>\n",
       "      <td>FALSE</td>\n",
       "      <td>7.9</td>\n",
       "      <td>695</td>\n",
       "    </tr>\n",
       "    <tr>\n",
       "      <th>96</th>\n",
       "      <td>FALSE</td>\n",
       "      <td>NaN</td>\n",
       "      <td>0</td>\n",
       "      <td>[{'id': 28, 'name': 'Action'}, {'id': 12, 'nam...</td>\n",
       "      <td>NaN</td>\n",
       "      <td>45549</td>\n",
       "      <td>tt0111173</td>\n",
       "      <td>en</td>\n",
       "      <td>Shopping</td>\n",
       "      <td>A dark, hip, urban story of a barren and anony...</td>\n",
       "      <td>...</td>\n",
       "      <td>06-12-1994</td>\n",
       "      <td>0</td>\n",
       "      <td>105</td>\n",
       "      <td>[{'iso_639_1': 'en', 'name': 'English'}]</td>\n",
       "      <td>Released</td>\n",
       "      <td>No one leaves without paying...</td>\n",
       "      <td>Shopping</td>\n",
       "      <td>FALSE</td>\n",
       "      <td>5.6</td>\n",
       "      <td>13</td>\n",
       "    </tr>\n",
       "    <tr>\n",
       "      <th>97</th>\n",
       "      <td>FALSE</td>\n",
       "      <td>NaN</td>\n",
       "      <td>0</td>\n",
       "      <td>[{'id': 99, 'name': 'Documentary'}]</td>\n",
       "      <td>http://www.nickbroomfield.com/heidifleiss.html</td>\n",
       "      <td>63076</td>\n",
       "      <td>tt0113283</td>\n",
       "      <td>en</td>\n",
       "      <td>Heidi Fleiss: Hollywood Madam</td>\n",
       "      <td>A documentary crew from the BBC arrives in L.A...</td>\n",
       "      <td>...</td>\n",
       "      <td>27-12-1995</td>\n",
       "      <td>0</td>\n",
       "      <td>106</td>\n",
       "      <td>[{'iso_639_1': 'en', 'name': 'English'}]</td>\n",
       "      <td>Released</td>\n",
       "      <td></td>\n",
       "      <td>Heidi Fleiss: Hollywood Madam</td>\n",
       "      <td>FALSE</td>\n",
       "      <td>6.8</td>\n",
       "      <td>4</td>\n",
       "    </tr>\n",
       "    <tr>\n",
       "      <th>98</th>\n",
       "      <td>FALSE</td>\n",
       "      <td>NaN</td>\n",
       "      <td>0</td>\n",
       "      <td>[{'id': 18, 'name': 'Drama'}, {'id': 53, 'name...</td>\n",
       "      <td>NaN</td>\n",
       "      <td>11062</td>\n",
       "      <td>tt0115907</td>\n",
       "      <td>en</td>\n",
       "      <td>City Hall</td>\n",
       "      <td>The accidental shooting of a boy in New York l...</td>\n",
       "      <td>...</td>\n",
       "      <td>16-02-1996</td>\n",
       "      <td>0</td>\n",
       "      <td>111</td>\n",
       "      <td>[{'iso_639_1': 'en', 'name': 'English'}]</td>\n",
       "      <td>Released</td>\n",
       "      <td>It started with a shootout on a rainswept stre...</td>\n",
       "      <td>City Hall</td>\n",
       "      <td>FALSE</td>\n",
       "      <td>6</td>\n",
       "      <td>67</td>\n",
       "    </tr>\n",
       "  </tbody>\n",
       "</table>\n",
       "<p>5 rows × 24 columns</p>\n",
       "</div>"
      ],
      "text/plain": [
       "    adult belongs_to_collection   budget  \\\n",
       "94  FALSE                   NaN        0   \n",
       "95  FALSE                   NaN  3000000   \n",
       "96  FALSE                   NaN        0   \n",
       "97  FALSE                   NaN        0   \n",
       "98  FALSE                   NaN        0   \n",
       "\n",
       "                                               genres  \\\n",
       "94                     [{'id': 35, 'name': 'Comedy'}]   \n",
       "95                      [{'id': 18, 'name': 'Drama'}]   \n",
       "96  [{'id': 28, 'name': 'Action'}, {'id': 12, 'nam...   \n",
       "97                [{'id': 99, 'name': 'Documentary'}]   \n",
       "98  [{'id': 18, 'name': 'Drama'}, {'id': 53, 'name...   \n",
       "\n",
       "                                          homepage     id    imdb_id  \\\n",
       "94                                             NaN  40154  tt0113403   \n",
       "95                                             NaN    406  tt0113247   \n",
       "96                                             NaN  45549  tt0111173   \n",
       "97  http://www.nickbroomfield.com/heidifleiss.html  63076  tt0113283   \n",
       "98                                             NaN  11062  tt0115907   \n",
       "\n",
       "   original_language                 original_title  \\\n",
       "94                en             A Midwinter's Tale   \n",
       "95                fr                       La Haine   \n",
       "96                en                       Shopping   \n",
       "97                en  Heidi Fleiss: Hollywood Madam   \n",
       "98                en                      City Hall   \n",
       "\n",
       "                                             overview  ... release_date  \\\n",
       "94  Out of work actor Joe volunteers to help try a...  ...   01-12-1995   \n",
       "95  Aimlessly whiling away their days in the concr...  ...   31-05-1995   \n",
       "96  A dark, hip, urban story of a barren and anony...  ...   06-12-1994   \n",
       "97  A documentary crew from the BBC arrives in L.A...  ...   27-12-1995   \n",
       "98  The accidental shooting of a boy in New York l...  ...   16-02-1996   \n",
       "\n",
       "   revenue runtime                           spoken_languages    status  \\\n",
       "94       0      99   [{'iso_639_1': 'en', 'name': 'English'}]  Released   \n",
       "95       0      98  [{'iso_639_1': 'fr', 'name': 'Français'}]  Released   \n",
       "96       0     105   [{'iso_639_1': 'en', 'name': 'English'}]  Released   \n",
       "97       0     106   [{'iso_639_1': 'en', 'name': 'English'}]  Released   \n",
       "98       0     111   [{'iso_639_1': 'en', 'name': 'English'}]  Released   \n",
       "\n",
       "                                              tagline  \\\n",
       "94  The drama. The passion. The intrigue... And th...   \n",
       "95            Three Young Friends... One Last Chance.   \n",
       "96                    No one leaves without paying...   \n",
       "97                                                      \n",
       "98  It started with a shootout on a rainswept stre...   \n",
       "\n",
       "                            title  video vote_average vote_count  \n",
       "94             A Midwinter's Tale  FALSE          7.5          6  \n",
       "95                       La Haine  FALSE          7.9        695  \n",
       "96                       Shopping  FALSE          5.6         13  \n",
       "97  Heidi Fleiss: Hollywood Madam  FALSE          6.8          4  \n",
       "98                      City Hall  FALSE            6         67  \n",
       "\n",
       "[5 rows x 24 columns]"
      ]
     },
     "execution_count": 212,
     "metadata": {},
     "output_type": "execute_result"
    }
   ],
   "source": [
    "\n",
    "data.tail()"
   ]
  },
  {
   "cell_type": "code",
   "execution_count": 213,
   "id": "0286cb22-c1f1-4b66-aa8a-2f119d169efa",
   "metadata": {
    "tags": []
   },
   "outputs": [
    {
     "name": "stdout",
     "output_type": "stream",
     "text": [
      "<class 'pandas.core.frame.DataFrame'>\n",
      "RangeIndex: 99 entries, 0 to 98\n",
      "Data columns (total 24 columns):\n",
      " #   Column                 Non-Null Count  Dtype \n",
      "---  ------                 --------------  ----- \n",
      " 0   adult                  99 non-null     object\n",
      " 1   belongs_to_collection  14 non-null     object\n",
      " 2   budget                 99 non-null     object\n",
      " 3   genres                 99 non-null     object\n",
      " 4   homepage               8 non-null      object\n",
      " 5   id                     99 non-null     object\n",
      " 6   imdb_id                99 non-null     object\n",
      " 7   original_language      99 non-null     object\n",
      " 8   original_title         99 non-null     object\n",
      " 9   overview               98 non-null     object\n",
      " 10  popularity             99 non-null     object\n",
      " 11  poster_path            99 non-null     object\n",
      " 12  production_companies   99 non-null     object\n",
      " 13  production_countries   99 non-null     object\n",
      " 14  release_date           99 non-null     object\n",
      " 15  revenue                99 non-null     object\n",
      " 16  runtime                99 non-null     object\n",
      " 17  spoken_languages       99 non-null     object\n",
      " 18  status                 99 non-null     object\n",
      " 19  tagline                76 non-null     object\n",
      " 20  title                  99 non-null     object\n",
      " 21  video                  99 non-null     object\n",
      " 22  vote_average           99 non-null     object\n",
      " 23  vote_count             99 non-null     object\n",
      "dtypes: object(24)\n",
      "memory usage: 18.7+ KB\n"
     ]
    }
   ],
   "source": [
    "data.info()"
   ]
  },
  {
   "cell_type": "code",
   "execution_count": 214,
   "id": "447d021c-5092-4a88-ae58-debe2e85dd68",
   "metadata": {
    "tags": []
   },
   "outputs": [
    {
     "data": {
      "text/plain": [
       "(99, 24)"
      ]
     },
     "execution_count": 214,
     "metadata": {},
     "output_type": "execute_result"
    }
   ],
   "source": [
    "data.shape"
   ]
  },
  {
   "cell_type": "code",
   "execution_count": 215,
   "id": "2e27c14c-37ec-481a-8bb7-ba43e3072ec4",
   "metadata": {
    "tags": []
   },
   "outputs": [
    {
     "data": {
      "text/plain": [
       "Index(['adult', 'belongs_to_collection', 'budget', 'genres', 'homepage', 'id',\n",
       "       'imdb_id', 'original_language', 'original_title', 'overview',\n",
       "       'popularity', 'poster_path', 'production_companies',\n",
       "       'production_countries', 'release_date', 'revenue', 'runtime',\n",
       "       'spoken_languages', 'status', 'tagline', 'title', 'video',\n",
       "       'vote_average', 'vote_count'],\n",
       "      dtype='object')"
      ]
     },
     "execution_count": 215,
     "metadata": {},
     "output_type": "execute_result"
    }
   ],
   "source": [
    "data.columns"
   ]
  },
  {
   "cell_type": "markdown",
   "id": "085392a1-d075-4670-afc6-7712718457d3",
   "metadata": {},
   "source": [
    "**Feature Selection**"
   ]
  },
  {
   "cell_type": "code",
   "execution_count": 216,
   "id": "1dc35d79-5370-414e-ae95-189b969465e1",
   "metadata": {
    "tags": []
   },
   "outputs": [],
   "source": [
    "df_featureselect=data[[ 'genres','overview','production_companies','tagline','original_title']].fillna('')"
   ]
  },
  {
   "cell_type": "code",
   "execution_count": 217,
   "id": "f6424f8d-7135-46e9-894c-cee7deb48fde",
   "metadata": {
    "tags": []
   },
   "outputs": [
    {
     "data": {
      "text/plain": [
       "(99, 5)"
      ]
     },
     "execution_count": 217,
     "metadata": {},
     "output_type": "execute_result"
    }
   ],
   "source": [
    "df_featureselect.shape"
   ]
  },
  {
   "cell_type": "code",
   "execution_count": 218,
   "id": "1f07b305-d4a8-4bd6-935a-ba9e47eae6b9",
   "metadata": {
    "tags": []
   },
   "outputs": [
    {
     "data": {
      "text/html": [
       "<div>\n",
       "<style scoped>\n",
       "    .dataframe tbody tr th:only-of-type {\n",
       "        vertical-align: middle;\n",
       "    }\n",
       "\n",
       "    .dataframe tbody tr th {\n",
       "        vertical-align: top;\n",
       "    }\n",
       "\n",
       "    .dataframe thead th {\n",
       "        text-align: right;\n",
       "    }\n",
       "</style>\n",
       "<table border=\"1\" class=\"dataframe\">\n",
       "  <thead>\n",
       "    <tr style=\"text-align: right;\">\n",
       "      <th></th>\n",
       "      <th>genres</th>\n",
       "      <th>overview</th>\n",
       "      <th>production_companies</th>\n",
       "      <th>tagline</th>\n",
       "      <th>original_title</th>\n",
       "    </tr>\n",
       "  </thead>\n",
       "  <tbody>\n",
       "    <tr>\n",
       "      <th>0</th>\n",
       "      <td>[{'id': 16, 'name': 'Animation'}, {'id': 35, '...</td>\n",
       "      <td>Led by Woody, Andy's toys live happily in his ...</td>\n",
       "      <td>[{'name': 'Pixar Animation Studios', 'id': 3}]</td>\n",
       "      <td></td>\n",
       "      <td>Toy Story</td>\n",
       "    </tr>\n",
       "    <tr>\n",
       "      <th>1</th>\n",
       "      <td>[{'id': 12, 'name': 'Adventure'}, {'id': 14, '...</td>\n",
       "      <td>When siblings Judy and Peter discover an encha...</td>\n",
       "      <td>[{'name': 'TriStar Pictures', 'id': 559}, {'na...</td>\n",
       "      <td>Roll the dice and unleash the excitement!</td>\n",
       "      <td>Jumanji</td>\n",
       "    </tr>\n",
       "    <tr>\n",
       "      <th>2</th>\n",
       "      <td>[{'id': 10749, 'name': 'Romance'}, {'id': 35, ...</td>\n",
       "      <td>A family wedding reignites the ancient feud be...</td>\n",
       "      <td>[{'name': 'Warner Bros.', 'id': 6194}, {'name'...</td>\n",
       "      <td>Still Yelling. Still Fighting. Still Ready for...</td>\n",
       "      <td>Grumpier Old Men</td>\n",
       "    </tr>\n",
       "    <tr>\n",
       "      <th>3</th>\n",
       "      <td>[{'id': 35, 'name': 'Comedy'}, {'id': 18, 'nam...</td>\n",
       "      <td>Cheated on, mistreated and stepped on, the wom...</td>\n",
       "      <td>[{'name': 'Twentieth Century Fox Film Corporat...</td>\n",
       "      <td>Friends are the people who let you be yourself...</td>\n",
       "      <td>Waiting to Exhale</td>\n",
       "    </tr>\n",
       "    <tr>\n",
       "      <th>4</th>\n",
       "      <td>[{'id': 35, 'name': 'Comedy'}]</td>\n",
       "      <td>Just when George Banks has recovered from his ...</td>\n",
       "      <td>[{'name': 'Sandollar Productions', 'id': 5842}...</td>\n",
       "      <td>Just When His World Is Back To Normal... He's ...</td>\n",
       "      <td>Father of the Bride Part II</td>\n",
       "    </tr>\n",
       "    <tr>\n",
       "      <th>...</th>\n",
       "      <td>...</td>\n",
       "      <td>...</td>\n",
       "      <td>...</td>\n",
       "      <td>...</td>\n",
       "      <td>...</td>\n",
       "    </tr>\n",
       "    <tr>\n",
       "      <th>94</th>\n",
       "      <td>[{'id': 35, 'name': 'Comedy'}]</td>\n",
       "      <td>Out of work actor Joe volunteers to help try a...</td>\n",
       "      <td>[{'name': 'Castle Rock Entertainment', 'id': 9...</td>\n",
       "      <td>The drama. The passion. The intrigue... And th...</td>\n",
       "      <td>A Midwinter's Tale</td>\n",
       "    </tr>\n",
       "    <tr>\n",
       "      <th>95</th>\n",
       "      <td>[{'id': 18, 'name': 'Drama'}]</td>\n",
       "      <td>Aimlessly whiling away their days in the concr...</td>\n",
       "      <td>[{'name': 'Egg Pictures', 'id': 802}, {'name':...</td>\n",
       "      <td>Three Young Friends... One Last Chance.</td>\n",
       "      <td>La Haine</td>\n",
       "    </tr>\n",
       "    <tr>\n",
       "      <th>96</th>\n",
       "      <td>[{'id': 28, 'name': 'Action'}, {'id': 12, 'nam...</td>\n",
       "      <td>A dark, hip, urban story of a barren and anony...</td>\n",
       "      <td>[{'name': 'Channel Four Films', 'id': 181}]</td>\n",
       "      <td>No one leaves without paying...</td>\n",
       "      <td>Shopping</td>\n",
       "    </tr>\n",
       "    <tr>\n",
       "      <th>97</th>\n",
       "      <td>[{'id': 99, 'name': 'Documentary'}]</td>\n",
       "      <td>A documentary crew from the BBC arrives in L.A...</td>\n",
       "      <td>[{'name': 'British Broadcasting Corporation (B...</td>\n",
       "      <td></td>\n",
       "      <td>Heidi Fleiss: Hollywood Madam</td>\n",
       "    </tr>\n",
       "    <tr>\n",
       "      <th>98</th>\n",
       "      <td>[{'id': 18, 'name': 'Drama'}, {'id': 53, 'name...</td>\n",
       "      <td>The accidental shooting of a boy in New York l...</td>\n",
       "      <td>[{'name': 'Columbia Pictures', 'id': 5}, {'nam...</td>\n",
       "      <td>It started with a shootout on a rainswept stre...</td>\n",
       "      <td>City Hall</td>\n",
       "    </tr>\n",
       "  </tbody>\n",
       "</table>\n",
       "<p>99 rows × 5 columns</p>\n",
       "</div>"
      ],
      "text/plain": [
       "                                               genres  \\\n",
       "0   [{'id': 16, 'name': 'Animation'}, {'id': 35, '...   \n",
       "1   [{'id': 12, 'name': 'Adventure'}, {'id': 14, '...   \n",
       "2   [{'id': 10749, 'name': 'Romance'}, {'id': 35, ...   \n",
       "3   [{'id': 35, 'name': 'Comedy'}, {'id': 18, 'nam...   \n",
       "4                      [{'id': 35, 'name': 'Comedy'}]   \n",
       "..                                                ...   \n",
       "94                     [{'id': 35, 'name': 'Comedy'}]   \n",
       "95                      [{'id': 18, 'name': 'Drama'}]   \n",
       "96  [{'id': 28, 'name': 'Action'}, {'id': 12, 'nam...   \n",
       "97                [{'id': 99, 'name': 'Documentary'}]   \n",
       "98  [{'id': 18, 'name': 'Drama'}, {'id': 53, 'name...   \n",
       "\n",
       "                                             overview  \\\n",
       "0   Led by Woody, Andy's toys live happily in his ...   \n",
       "1   When siblings Judy and Peter discover an encha...   \n",
       "2   A family wedding reignites the ancient feud be...   \n",
       "3   Cheated on, mistreated and stepped on, the wom...   \n",
       "4   Just when George Banks has recovered from his ...   \n",
       "..                                                ...   \n",
       "94  Out of work actor Joe volunteers to help try a...   \n",
       "95  Aimlessly whiling away their days in the concr...   \n",
       "96  A dark, hip, urban story of a barren and anony...   \n",
       "97  A documentary crew from the BBC arrives in L.A...   \n",
       "98  The accidental shooting of a boy in New York l...   \n",
       "\n",
       "                                 production_companies  \\\n",
       "0      [{'name': 'Pixar Animation Studios', 'id': 3}]   \n",
       "1   [{'name': 'TriStar Pictures', 'id': 559}, {'na...   \n",
       "2   [{'name': 'Warner Bros.', 'id': 6194}, {'name'...   \n",
       "3   [{'name': 'Twentieth Century Fox Film Corporat...   \n",
       "4   [{'name': 'Sandollar Productions', 'id': 5842}...   \n",
       "..                                                ...   \n",
       "94  [{'name': 'Castle Rock Entertainment', 'id': 9...   \n",
       "95  [{'name': 'Egg Pictures', 'id': 802}, {'name':...   \n",
       "96        [{'name': 'Channel Four Films', 'id': 181}]   \n",
       "97  [{'name': 'British Broadcasting Corporation (B...   \n",
       "98  [{'name': 'Columbia Pictures', 'id': 5}, {'nam...   \n",
       "\n",
       "                                              tagline  \\\n",
       "0                                                       \n",
       "1           Roll the dice and unleash the excitement!   \n",
       "2   Still Yelling. Still Fighting. Still Ready for...   \n",
       "3   Friends are the people who let you be yourself...   \n",
       "4   Just When His World Is Back To Normal... He's ...   \n",
       "..                                                ...   \n",
       "94  The drama. The passion. The intrigue... And th...   \n",
       "95            Three Young Friends... One Last Chance.   \n",
       "96                    No one leaves without paying...   \n",
       "97                                                      \n",
       "98  It started with a shootout on a rainswept stre...   \n",
       "\n",
       "                   original_title  \n",
       "0                       Toy Story  \n",
       "1                         Jumanji  \n",
       "2                Grumpier Old Men  \n",
       "3               Waiting to Exhale  \n",
       "4     Father of the Bride Part II  \n",
       "..                            ...  \n",
       "94             A Midwinter's Tale  \n",
       "95                       La Haine  \n",
       "96                       Shopping  \n",
       "97  Heidi Fleiss: Hollywood Madam  \n",
       "98                      City Hall  \n",
       "\n",
       "[99 rows x 5 columns]"
      ]
     },
     "execution_count": 218,
     "metadata": {},
     "output_type": "execute_result"
    }
   ],
   "source": [
    "df_featureselect"
   ]
  },
  {
   "cell_type": "code",
   "execution_count": 219,
   "id": "b428132e-06a2-4d24-9c27-b0acb65af576",
   "metadata": {
    "tags": []
   },
   "outputs": [],
   "source": [
    "x=df_featureselect['genres']+''+['overview']+''+['production_companies']+''+['tagline']+''+['original_title']"
   ]
  },
  {
   "cell_type": "code",
   "execution_count": 220,
   "id": "d39381f7-3d7e-41a3-a294-469d963e63a2",
   "metadata": {
    "tags": []
   },
   "outputs": [
    {
     "data": {
      "text/plain": [
       "0     [{'id': 16, 'name': 'Animation'}, {'id': 35, '...\n",
       "1     [{'id': 12, 'name': 'Adventure'}, {'id': 14, '...\n",
       "2     [{'id': 10749, 'name': 'Romance'}, {'id': 35, ...\n",
       "3     [{'id': 35, 'name': 'Comedy'}, {'id': 18, 'nam...\n",
       "4     [{'id': 35, 'name': 'Comedy'}]overviewproducti...\n",
       "                            ...                        \n",
       "94    [{'id': 35, 'name': 'Comedy'}]overviewproducti...\n",
       "95    [{'id': 18, 'name': 'Drama'}]overviewproductio...\n",
       "96    [{'id': 28, 'name': 'Action'}, {'id': 12, 'nam...\n",
       "97    [{'id': 99, 'name': 'Documentary'}]overviewpro...\n",
       "98    [{'id': 18, 'name': 'Drama'}, {'id': 53, 'name...\n",
       "Name: genres, Length: 99, dtype: object"
      ]
     },
     "execution_count": 220,
     "metadata": {},
     "output_type": "execute_result"
    }
   ],
   "source": [
    "x"
   ]
  },
  {
   "cell_type": "code",
   "execution_count": 221,
   "id": "550c367c-3892-41f0-aee9-318e91397eea",
   "metadata": {
    "tags": []
   },
   "outputs": [
    {
     "data": {
      "text/plain": [
       "(99,)"
      ]
     },
     "execution_count": 221,
     "metadata": {},
     "output_type": "execute_result"
    }
   ],
   "source": [
    "x.shape"
   ]
  },
  {
   "cell_type": "markdown",
   "id": "8ebfe599-b7ae-43fa-a4e9-21ef5974aada",
   "metadata": {},
   "source": [
    "**Get Feature Text Coversion To Token**"
   ]
  },
  {
   "cell_type": "code",
   "execution_count": 222,
   "id": "1614cb71-0a92-414e-8be8-fabc55732d07",
   "metadata": {
    "tags": []
   },
   "outputs": [],
   "source": [
    "from sklearn.feature_extraction.text import TfidfVectorizer"
   ]
  },
  {
   "cell_type": "code",
   "execution_count": 223,
   "id": "fdd63ea1-f786-4de3-ad4f-8486e5f6bb9a",
   "metadata": {
    "tags": []
   },
   "outputs": [],
   "source": [
    "tfidf=TfidfVectorizer()"
   ]
  },
  {
   "cell_type": "code",
   "execution_count": 224,
   "id": "9884e4ca-243a-467f-8bdb-15d779382ae2",
   "metadata": {
    "tags": []
   },
   "outputs": [],
   "source": [
    "x=tfidf.fit_transform(x)"
   ]
  },
  {
   "cell_type": "code",
   "execution_count": 225,
   "id": "87a9c0bf-ad85-4318-9e71-4f08576354f5",
   "metadata": {
    "tags": []
   },
   "outputs": [
    {
     "data": {
      "text/plain": [
       "(99, 40)"
      ]
     },
     "execution_count": 225,
     "metadata": {},
     "output_type": "execute_result"
    }
   ],
   "source": [
    "x.shape"
   ]
  },
  {
   "cell_type": "code",
   "execution_count": 226,
   "id": "d5407c40-c487-48a2-9fb2-ce3f232eb823",
   "metadata": {
    "tags": []
   },
   "outputs": [
    {
     "name": "stdout",
     "output_type": "stream",
     "text": [
      "  (0, 35)\t0.11226543834814452\n",
      "  (0, 25)\t0.31119494994162034\n",
      "  (0, 2)\t0.31119494994162034\n",
      "  (0, 21)\t0.2333784778762776\n",
      "  (0, 11)\t0.2333784778762776\n",
      "  (0, 20)\t0.47363394381521834\n",
      "  (0, 34)\t0.34360051242289535\n",
      "  (0, 7)\t0.47363394381521834\n",
      "  (0, 31)\t0.34360051242289535\n",
      "  (1, 26)\t0.4079220575177096\n",
      "  (1, 6)\t0.4079220575177096\n",
      "  (1, 19)\t0.31409852324309495\n",
      "  (1, 5)\t0.31409852324309495\n",
      "  (1, 35)\t0.11569865371693784\n",
      "  (1, 25)\t0.3207116747729727\n",
      "  (1, 2)\t0.3207116747729727\n",
      "  (1, 34)\t0.35410823926503654\n",
      "  (1, 31)\t0.35410823926503654\n",
      "  (2, 36)\t0.427251046587194\n",
      "  (2, 1)\t0.427251046587194\n",
      "  (2, 35)\t0.18797074286411955\n",
      "  (2, 21)\t0.39075539632119055\n",
      "  (2, 11)\t0.39075539632119055\n",
      "  (2, 34)\t0.38353652153292017\n",
      "  (2, 31)\t0.38353652153292017\n",
      "  :\t:\n",
      "  (96, 37)\t0.31010020851348497\n",
      "  (96, 15)\t0.31010020851348497\n",
      "  (96, 38)\t0.20568346615819513\n",
      "  (96, 13)\t0.20568346615819513\n",
      "  (96, 18)\t0.23006278595304236\n",
      "  (96, 10)\t0.23006278595304236\n",
      "  (96, 24)\t0.1309063073862408\n",
      "  (96, 8)\t0.1309063073862408\n",
      "  (96, 19)\t0.23006278595304236\n",
      "  (96, 5)\t0.23006278595304236\n",
      "  (96, 35)\t0.08474396609796923\n",
      "  (96, 34)\t0.43228011820986145\n",
      "  (96, 31)\t0.43228011820986145\n",
      "  (97, 23)\t0.6817190850588831\n",
      "  (97, 17)\t0.6817190850588831\n",
      "  (97, 35)\t0.15127267874763056\n",
      "  (97, 34)\t0.1543287964015061\n",
      "  (97, 31)\t0.1543287964015061\n",
      "  (98, 38)\t0.47709286468753864\n",
      "  (98, 13)\t0.47709286468753864\n",
      "  (98, 24)\t0.30364358576364225\n",
      "  (98, 8)\t0.30364358576364225\n",
      "  (98, 35)\t0.1965677762332522\n",
      "  (98, 34)\t0.4010779549690965\n",
      "  (98, 31)\t0.4010779549690965\n"
     ]
    }
   ],
   "source": [
    "print(x)"
   ]
  },
  {
   "cell_type": "markdown",
   "id": "29ea8f55-9af0-4f0f-b8ab-016e23794eb9",
   "metadata": {},
   "source": [
    "**Get similar Score using Cosine Similarity**"
   ]
  },
  {
   "cell_type": "code",
   "execution_count": 227,
   "id": "d7669d65-73fa-4e4d-94b4-2a5621133ff2",
   "metadata": {
    "tags": []
   },
   "outputs": [],
   "source": [
    "from sklearn.metrics.pairwise import cosine_similarity"
   ]
  },
  {
   "cell_type": "code",
   "execution_count": 228,
   "id": "a8232027-008e-4c2b-89b4-1f1ea09513ba",
   "metadata": {
    "tags": []
   },
   "outputs": [],
   "source": [
    "similarity_score=cosine_similarity(x)"
   ]
  },
  {
   "cell_type": "code",
   "execution_count": 229,
   "id": "aa2e55c1-3c05-4c5d-b254-e8e131431baf",
   "metadata": {
    "tags": []
   },
   "outputs": [
    {
     "data": {
      "text/plain": [
       "array([[1.        , 0.45594021, 0.46705711, ..., 0.30657716, 0.1230376 ,\n",
       "        0.29768895],\n",
       "       [0.45594021, 1.        , 0.29337485, ..., 0.46047743, 0.12680024,\n",
       "        0.30679264],\n",
       "       [0.46705711, 0.29337485, 1.        , ..., 0.34751981, 0.1468163 ,\n",
       "        0.34460508],\n",
       "       ...,\n",
       "       [0.30657716, 0.46047743, 0.34751981, ..., 1.        , 0.14624599,\n",
       "        0.63917193],\n",
       "       [0.1230376 , 0.12680024, 0.1468163 , ..., 0.14624599, 1.        ,\n",
       "        0.15353109],\n",
       "       [0.29768895, 0.30679264, 0.34460508, ..., 0.63917193, 0.15353109,\n",
       "        1.        ]])"
      ]
     },
     "execution_count": 229,
     "metadata": {},
     "output_type": "execute_result"
    }
   ],
   "source": [
    "similarity_score"
   ]
  },
  {
   "cell_type": "code",
   "execution_count": 230,
   "id": "28594827",
   "metadata": {},
   "outputs": [
    {
     "data": {
      "text/plain": [
       "(99, 99)"
      ]
     },
     "execution_count": 230,
     "metadata": {},
     "output_type": "execute_result"
    }
   ],
   "source": [
    "similarity_score.shape"
   ]
  },
  {
   "cell_type": "markdown",
   "id": "7e3993b2",
   "metadata": {
    "tags": []
   },
   "source": [
    "Get Movies Name as Input from User and Validate for Closest Spelling"
   ]
  },
  {
   "cell_type": "code",
   "execution_count": 231,
   "id": "f2240511",
   "metadata": {},
   "outputs": [],
   "source": [
    "fav_movie_name=input(\"Enter your Favourite Movie Name: \")"
   ]
  },
  {
   "cell_type": "code",
   "execution_count": 232,
   "id": "c0efdaa0",
   "metadata": {},
   "outputs": [],
   "source": [
    "all_movies_title_list=data['original_title'].tolist()"
   ]
  },
  {
   "cell_type": "code",
   "execution_count": 233,
   "id": "036122c5",
   "metadata": {},
   "outputs": [],
   "source": [
    "import difflib"
   ]
  },
  {
   "cell_type": "code",
   "execution_count": 234,
   "id": "0b952d92",
   "metadata": {},
   "outputs": [
    {
     "name": "stdout",
     "output_type": "stream",
     "text": [
      "['Four Rooms']\n"
     ]
    }
   ],
   "source": [
    "movie_recommondation=difflib.get_close_matches(fav_movie_name,all_movies_title_list)\n",
    "print(movie_recommondation)"
   ]
  },
  {
   "cell_type": "code",
   "execution_count": 235,
   "id": "64ecb352",
   "metadata": {},
   "outputs": [
    {
     "name": "stdout",
     "output_type": "stream",
     "text": [
      "Four Rooms\n"
     ]
    }
   ],
   "source": [
    "close_match=movie_recommondation[0]\n",
    "print(close_match)"
   ]
  },
  {
   "cell_type": "code",
   "execution_count": 236,
   "metadata": {},
   "outputs": [
    {
     "name": "stdout",
     "output_type": "stream",
     "text": [
      "5\n"
     ]
    }
   ],
   "source": [
    "index_of_close_match_movie=int(data[data.original_title==close_match]['id'].values[0])\n",
    "print(index_of_close_match_movie)"
   ]
  },
  {
   "cell_type": "code",
   "execution_count": 237,
   "id": "a5811465",
   "metadata": {},
   "outputs": [
    {
     "name": "stdout",
     "output_type": "stream",
     "text": [
      "[(0, 0.3227794618647637), (1, 0.3326504553380034), (2, 0.36722970119251386), (3, 0.5161101378733494), (4, 0.3014394155023656), (5, 1.0000000000000002), (6, 0.36722970119251386), (7, 0.6501478830015724), (8, 0.7439553190575393), (9, 0.7439553190575393), (10, 0.5161101378733494), (11, 0.28480726662170563), (12, 0.3110488750878291), (13, 0.3776692717297004), (14, 0.5754774280077406), (15, 0.7754680033466326), (16, 0.5021024200880705), (17, 0.6394619804615588), (18, 0.6046730442103354), (19, 0.8167541252764892), (20, 0.7943017328807089), (21, 0.7441458357594101), (22, 0.8888535394151862), (23, 0.5228526605055838), (24, 0.5021024200880705), (25, 0.5567596870810636), (26, 0.4885979751099535), (27, 0.5021024200880705), (28, 0.2882259233655929), (29, 0.7754680033466326), (30, 0.7754680033466326), (31, 0.4034656548328567), (32, 0.3330975044073662), (33, 0.4611547253483206), (34, 0.4256656293679058), (35, 0.5567596870810636), (36, 0.43626874513912794), (37, 0.39097626584566286), (38, 0.5161101378733494), (39, 0.5567596870810636), (40, 0.31429208554610766), (41, 0.777293272987784), (42, 0.5021024200880705), (43, 0.5125113189600524), (44, 0.6128107738691617), (45, 0.5021024200880705), (46, 0.6530067145774707), (47, 0.4224914454995097), (48, 0.5021024200880705), (49, 0.8961561491705488), (50, 0.887313067793948), (51, 0.36722970119251386), (52, 0.31429208554610766), (53, 0.5792887659661906), (54, 0.5567596870810636), (55, 0.110669666566551), (56, 0.5161101378733494), (57, 0.5161101378733494), (58, 0.5551847056193149), (59, 0.3326504553380034), (60, 0.7441458357594101), (61, 0.3625245692324869), (62, 0.3014394155023656), (63, 0.36722970119251386), (64, 0.3014394155023656), (65, 0.44729061699834244), (66, 0.45719889654283363), (67, 0.36722970119251386), (68, 0.3014394155023656), (69, 0.8265037245307525), (70, 0.7723839371254315), (71, 0.5161101378733494), (72, 0.3776692717297004), (73, 0.5021024200880705), (74, 0.3383646258286319), (75, 0.22038804819487584), (76, 0.15613784820659887), (77, 0.7441458357594101), (78, 0.7441458357594101), (79, 0.45719889654283363), (80, 0.7754680033466326), (81, 0.5204227642872481), (82, 0.5021024200880705), (83, 0.110669666566551), (84, 0.5021024200880705), (85, 0.7659124649921909), (86, 0.375955531137377), (87, 0.3014394155023656), (88, 0.8961561491705488), (89, 0.5567596870810636), (90, 0.592403562004723), (91, 0.3491906542645521), (92, 0.5161101378733494), (93, 0.8099674603153326), (94, 0.3014394155023656), (95, 0.5567596870810636), (96, 0.6933303425977866), (97, 0.15613784820659887), (98, 0.7441458357594101)]\n"
     ]
    }
   ],
   "source": [
    "#getting the list of similar movies\n",
    "recommendation_score = list(enumerate(similarity_score[index_of_close_match_movie]))\n",
    "print(recommendation_score)\n"
   ]
  },
  {
   "cell_type": "code",
   "execution_count": 238,
   "id": "e7ed7ed6",
   "metadata": {},
   "outputs": [
    {
     "data": {
      "text/plain": [
       "99"
      ]
     },
     "execution_count": 238,
     "metadata": {},
     "output_type": "execute_result"
    }
   ],
   "source": [
    "len(recommendation_score)"
   ]
  },
  {
   "attachments": {},
   "cell_type": "markdown",
   "id": "9c2bf123",
   "metadata": {},
   "source": [
    "**Get All Movie Sorted on Recommendation Score wrt Favourite Movie**"
   ]
  },
  {
   "cell_type": "code",
   "execution_count": 239,
   "id": "57f264b4",
   "metadata": {},
   "outputs": [
    {
     "name": "stdout",
     "output_type": "stream",
     "text": [
      "[(0, 0.3227794618647637), (1, 0.3326504553380034), (2, 0.36722970119251386), (3, 0.5161101378733494), (4, 0.3014394155023656), (5, 1.0000000000000002), (6, 0.36722970119251386), (7, 0.6501478830015724), (8, 0.7439553190575393), (9, 0.7439553190575393), (10, 0.5161101378733494), (11, 0.28480726662170563), (12, 0.3110488750878291), (13, 0.3776692717297004), (14, 0.5754774280077406), (15, 0.7754680033466326), (16, 0.5021024200880705), (17, 0.6394619804615588), (18, 0.6046730442103354), (19, 0.8167541252764892), (20, 0.7943017328807089), (21, 0.7441458357594101), (22, 0.8888535394151862), (23, 0.5228526605055838), (24, 0.5021024200880705), (25, 0.5567596870810636), (26, 0.4885979751099535), (27, 0.5021024200880705), (28, 0.2882259233655929), (29, 0.7754680033466326), (30, 0.7754680033466326), (31, 0.4034656548328567), (32, 0.3330975044073662), (33, 0.4611547253483206), (34, 0.4256656293679058), (35, 0.5567596870810636), (36, 0.43626874513912794), (37, 0.39097626584566286), (38, 0.5161101378733494), (39, 0.5567596870810636), (40, 0.31429208554610766), (41, 0.777293272987784), (42, 0.5021024200880705), (43, 0.5125113189600524), (44, 0.6128107738691617), (45, 0.5021024200880705), (46, 0.6530067145774707), (47, 0.4224914454995097), (48, 0.5021024200880705), (49, 0.8961561491705488), (50, 0.887313067793948), (51, 0.36722970119251386), (52, 0.31429208554610766), (53, 0.5792887659661906), (54, 0.5567596870810636), (55, 0.110669666566551), (56, 0.5161101378733494), (57, 0.5161101378733494), (58, 0.5551847056193149), (59, 0.3326504553380034), (60, 0.7441458357594101), (61, 0.3625245692324869), (62, 0.3014394155023656), (63, 0.36722970119251386), (64, 0.3014394155023656), (65, 0.44729061699834244), (66, 0.45719889654283363), (67, 0.36722970119251386), (68, 0.3014394155023656), (69, 0.8265037245307525), (70, 0.7723839371254315), (71, 0.5161101378733494), (72, 0.3776692717297004), (73, 0.5021024200880705), (74, 0.3383646258286319), (75, 0.22038804819487584), (76, 0.15613784820659887), (77, 0.7441458357594101), (78, 0.7441458357594101), (79, 0.45719889654283363), (80, 0.7754680033466326), (81, 0.5204227642872481), (82, 0.5021024200880705), (83, 0.110669666566551), (84, 0.5021024200880705), (85, 0.7659124649921909), (86, 0.375955531137377), (87, 0.3014394155023656), (88, 0.8961561491705488), (89, 0.5567596870810636), (90, 0.592403562004723), (91, 0.3491906542645521), (92, 0.5161101378733494), (93, 0.8099674603153326), (94, 0.3014394155023656), (95, 0.5567596870810636), (96, 0.6933303425977866), (97, 0.15613784820659887), (98, 0.7441458357594101)]\n"
     ]
    }
   ],
   "source": [
    "#sorting the movies based on their similarity score\n",
    "sorted_similar_movies=sorted(recommendation_score,key=lambda x:[1],reverse=True)\n",
    "print(sorted_similar_movies)"
   ]
  },
  {
   "cell_type": "code",
   "execution_count": 240,
   "id": "55a6fdc5",
   "metadata": {},
   "outputs": [
    {
     "name": "stdout",
     "output_type": "stream",
     "text": [
      "The top 30 SUggested MOvies for you are : \n",
      "\n",
      "1 . Toy Story\n",
      "2 . Jumanji\n",
      "3 . Grumpier Old Men\n",
      "4 . Waiting to Exhale\n",
      "5 . Father of the Bride Part II\n",
      "6 . Heat\n",
      "7 . Sabrina\n",
      "8 . Tom and Huck\n",
      "9 . Sudden Death\n",
      "10 . GoldenEye\n",
      "11 . The American President\n",
      "12 . Dracula: Dead and Loving It\n",
      "13 . Balto\n",
      "14 . Nixon\n",
      "15 . Cutthroat Island\n",
      "16 . Casino\n",
      "17 . Sense and Sensibility\n",
      "18 . Four Rooms\n",
      "19 . Ace Ventura: When Nature Calls\n",
      "20 . Money Train\n",
      "21 . Get Shorty\n",
      "22 . Copycat\n",
      "23 . Assassins\n",
      "24 . Powder\n",
      "25 . Leaving Las Vegas\n",
      "26 . Othello\n",
      "27 . Now and Then\n",
      "28 . Persuasion\n",
      "29 . La Cité des Enfants Perdus\n",
      "30 . 摇啊摇，摇到外婆桥\n"
     ]
    }
   ],
   "source": [
    "#print the name of similar movies based on the index\n",
    "print('The top 30 SUggested MOvies for you are : \\n')\n",
    "i=1\n",
    "\n",
    "for movies in sorted_similar_movies:\n",
    "    index=movies[0]\n",
    "    title_form_index=data[data.index==index]['original_title'].values[0]\n",
    "    if(i<31):\n",
    "        print(i,'.',title_form_index)\n",
    "        i+=1\n"
   ]
  },
  {
   "attachments": {},
   "cell_type": "markdown",
   "id": "dc2b9448",
   "metadata": {},
   "source": [
    "**Top 10 Movie Recommondation  System**"
   ]
  },
  {
   "cell_type": "code",
   "execution_count": 241,
   "id": "9101235f",
   "metadata": {},
   "outputs": [
    {
     "name": "stdout",
     "output_type": "stream",
     "text": [
      "Top 10 Movies Suggested for you: \n",
      "\n",
      "1 . Heat\n",
      "2 . The Usual Suspects\n",
      "3 . Nick of Time\n",
      "4 . Assassins\n",
      "5 . Guardian Angel\n",
      "6 . From Dusk Till Dawn\n",
      "7 . Money Train\n",
      "8 . Broken Arrow\n",
      "9 . Get Shorty\n",
      "10 . Dead Presidents\n"
     ]
    }
   ],
   "source": [
    "movies_name=input('Enter Your Favourite movies name: ')\n",
    "list_of_all_titles=data['original_title'].tolist()\n",
    "find_close_match=difflib.get_close_matches(movies_name,list_of_all_titles)\n",
    "close_match=find_close_match[0]\n",
    "index_of_movies=int(data[data.original_title==close_match]['id'].values[0])\n",
    "recommendation_score = list(enumerate(similarity_score[index_of_movies]))\n",
    "sorted_similar_movies=sorted(recommendation_score,key=lambda x:x[1],reverse=True)\n",
    "\n",
    "print('Top 10 Movies Suggested for you: \\n')\n",
    "i = 1\n",
    "\n",
    "for movies in sorted_similar_movies:\n",
    "    index = movies[0]\n",
    "    title_form_index = data[data.index == index]['original_title'].values[0]\n",
    "    if (i < 11):\n",
    "        print(i, '.', title_form_index)\n",
    "        i += 1\n"
   ]
  },
  {
   "cell_type": "code",
   "execution_count": null,
   "id": "38f1dce8",
   "metadata": {},
   "outputs": [],
   "source": []
  }
 ],
 "metadata": {
  "kernelspec": {
   "display_name": "Python 3 (ipykernel)",
   "language": "python",
   "name": "python3"
  },
  "language_info": {
   "codemirror_mode": {
    "name": "ipython",
    "version": 3
   },
   "file_extension": ".py",
   "mimetype": "text/x-python",
   "name": "python",
   "nbconvert_exporter": "python",
   "pygments_lexer": "ipython3",
   "version": "3.10.7"
  }
 },
 "nbformat": 4,
 "nbformat_minor": 5
}
